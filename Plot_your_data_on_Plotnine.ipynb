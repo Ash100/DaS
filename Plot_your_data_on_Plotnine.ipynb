{
  "nbformat": 4,
  "nbformat_minor": 0,
  "metadata": {
    "colab": {
      "provenance": [],
      "authorship_tag": "ABX9TyMIL+o3YpEfAQvR7FfWk9lz",
      "include_colab_link": true
    },
    "kernelspec": {
      "name": "python3",
      "display_name": "Python 3"
    },
    "language_info": {
      "name": "python"
    }
  },
  "cells": [
    {
      "cell_type": "markdown",
      "metadata": {
        "id": "view-in-github",
        "colab_type": "text"
      },
      "source": [
        "<a href=\"https://colab.research.google.com/github/Ash100/DaS/blob/main/Plot_your_data_on_Plotnine.ipynb\" target=\"_parent\"><img src=\"https://colab.research.google.com/assets/colab-badge.svg\" alt=\"Open In Colab\"/></a>"
      ]
    },
    {
      "cell_type": "markdown",
      "source": [
        "##Plotting with Plotnine\n",
        "This notebook is compiled by **Dr. Ashfaq Ahmad**. It intends the creation of biplots figures or simple plots (Line and Histograms). I particularly test them on RMSD.dat and RoG obtained in Molecular dynamics simulations files. How to use this notebook? Please watch a video tutorial \"Plotline Plots via Jupyter Notebook\" on https://www.youtube.com/@Bioinformaticsinsights\n",
        "\n",
        "Best Regards,\n"
      ],
      "metadata": {
        "id": "LXLgo4ZqSTCp"
      }
    },
    {
      "cell_type": "code",
      "execution_count": null,
      "metadata": {
        "id": "0i-mbvPoCQkO"
      },
      "outputs": [],
      "source": [
        "#Install Plotnine\n",
        "!pip install pandas plotnine"
      ]
    },
    {
      "cell_type": "code",
      "source": [
        "import warnings\n",
        "warnings.filterwarnings('ignore')\n"
      ],
      "metadata": {
        "id": "RFT3-znvCkna"
      },
      "execution_count": 2,
      "outputs": []
    },
    {
      "cell_type": "markdown",
      "source": [
        "**Important**. Incase you want to load data from Google Drive. Incase of a direct upload, you do not need to import Google Drive. Therefore, do not run the below cell."
      ],
      "metadata": {
        "id": "MhmyDQmpZ-0t"
      }
    },
    {
      "cell_type": "code",
      "source": [
        "#Import google modules:\n",
        "from google.colab import drive\n",
        "drive.mount('/content/drive')"
      ],
      "metadata": {
        "id": "l9cike04CzpC"
      },
      "execution_count": null,
      "outputs": []
    },
    {
      "cell_type": "markdown",
      "source": [
        "##RMSD / RMSF Data or Line Plot\n",
        "You are allowed to increase or decrease the inline options as per your needs. The inline options are for three files, if you have more than three, you need to increase otherwise disable one line if two."
      ],
      "metadata": {
        "id": "hl5CBzVJaXUk"
      }
    },
    {
      "cell_type": "markdown",
      "source": [],
      "metadata": {
        "id": "7Z8W1jJNa3hC"
      }
    },
    {
      "cell_type": "code",
      "source": [
        "import numpy as np\n",
        "import pandas as pd\n",
        "from plotnine import *\n",
        "\n",
        "%matplotlib inline\n",
        "rmsf1 = pd.read_csv('/content/sample_data/P-rmsd_ca.csv').dropna()\n",
        "rmsf2 = pd.read_csv('/content/sample_data/d1-rmsd_ca.csv').dropna()\n",
        "rmsf3 = pd.read_csv('/content/sample_data/d2-rmsd_ca.csv').dropna()"
      ],
      "metadata": {
        "id": "yF4CwW67DBq1"
      },
      "execution_count": 10,
      "outputs": []
    },
    {
      "cell_type": "code",
      "source": [
        "# Add a 'Group' column to each DataFrame to differentiate them\n",
        "rmsf1['Receptor'] = 'NDM1-Apo'\n",
        "rmsf2['Receptor'] = 'NDM1-ABTS'\n",
        "rmsf3['Receptor'] = 'NDM1-CBM'"
      ],
      "metadata": {
        "id": "r5bgcMSHbiiV"
      },
      "execution_count": null,
      "outputs": []
    },
    {
      "cell_type": "code",
      "source": [
        "# Define custom colors for each receptor\n",
        "custom_colors = {'NDM1-Apo': 'Green', 'NDM1-ABTS': 'Blue', 'NDM1-CBM': 'Red'}"
      ],
      "metadata": {
        "id": "gGYJ7ATWbyaQ"
      },
      "execution_count": null,
      "outputs": []
    },
    {
      "cell_type": "code",
      "source": [
        "# Concatenate the three DataFrames into one\n",
        "combined_data = pd.concat([rmsd1, rmsd2, rmsd3])"
      ],
      "metadata": {
        "id": "A_yB-S9wb-az"
      },
      "execution_count": null,
      "outputs": []
    },
    {
      "cell_type": "code",
      "source": [
        "print(combined_data.columns)"
      ],
      "metadata": {
        "id": "lcdzKcLEYrAc"
      },
      "execution_count": null,
      "outputs": []
    },
    {
      "cell_type": "markdown",
      "source": [
        "To plot your data, please run the below cell. Remember you need to edit the X and Y label for your plot."
      ],
      "metadata": {
        "id": "tHXnys46cgh8"
      }
    },
    {
      "cell_type": "code",
      "source": [
        "#Generate horitontal line graph for RMSD data\n",
        "p = ggplot(combined_data, aes(x='Time (ns)', y='RMSD (A)', color='Receptor')) + geom_line(size=1.5) + scale_color_manual(values=custom_colors) + theme_minimal() + theme(figure_size=(6, 3), panel_background=element_rect(fill='white'), panel_grid_major=element_blank(), panel_grid_minor=element_blank(), axis_line=element_line(color='black'), panel_border=element_blank()) + xlim(0, combined_data['Time (ns)'].max() + 10)"
      ],
      "metadata": {
        "id": "KoWLB2UWfUpi"
      },
      "execution_count": 16,
      "outputs": []
    },
    {
      "cell_type": "code",
      "source": [
        "display(p)"
      ],
      "metadata": {
        "id": "mtCP0-BVdbEI"
      },
      "execution_count": null,
      "outputs": []
    },
    {
      "cell_type": "code",
      "source": [
        "#Save your plot\n",
        "p.save(filename='name.png', height=3, width=6, units='in', dpi=600)"
      ],
      "metadata": {
        "id": "7U0aT1wQdmrc"
      },
      "execution_count": 18,
      "outputs": []
    },
    {
      "cell_type": "markdown",
      "source": [
        "Your Plot is already generated. Do not read the below cell. I have tweak some options there"
      ],
      "metadata": {
        "id": "W-akcDwHc-Mz"
      }
    },
    {
      "cell_type": "code",
      "source": [
        "#To generate single RMSF plot, use this section\n",
        "p = ggplot(combined_data, aes(x='Residues', y='RMSF (A)')) + geom_line(size=1.5, color='Receptor') + theme_minimal() + theme(figure_size=(6, 3), panel_background=element_rect(fill='white'), panel_grid_major=element_blank(), panel_grid_minor=element_blank(), axis_line=element_line(color='black'), panel_border=element_blank()) + xlim(0, combined_data['Residues'].max() + 10)"
      ],
      "metadata": {
        "id": "rhVtJmgTqsds"
      },
      "execution_count": null,
      "outputs": []
    },
    {
      "cell_type": "code",
      "source": [
        " #To generate byplot from RMSF data\n",
        " p = ggplot(combined_data, aes(x='Residues', y='RMSF (A)', color='Receptor')) + geom_line(size=1.5) + theme_minimal() + theme(figure_size=(6, 3), panel_background=element_rect(fill='white'), panel_grid_major=element_blank(), panel_grid_minor=element_blank(), axis_line=element_line(color='black'), panel_border=element_blank()) + xlim(0, combined_data['Residues'].max() + 10)"
      ],
      "metadata": {
        "id": "Z-tUG_3v2BYM"
      },
      "execution_count": null,
      "outputs": []
    },
    {
      "cell_type": "code",
      "source": [
        "display(p)\n"
      ],
      "metadata": {
        "id": "8aOq0Zyfy7Go"
      },
      "execution_count": null,
      "outputs": []
    },
    {
      "cell_type": "code",
      "source": [
        "p.save(filename='RMSF.png', height=3, width=6, units='in', dpi=600)"
      ],
      "metadata": {
        "id": "oElppS7JqzNg"
      },
      "execution_count": null,
      "outputs": []
    },
    {
      "cell_type": "markdown",
      "source": [
        "##**2. Now we will plot Histogram Data**\n",
        "In this case I will use the Radius of Gyration file from the simulations."
      ],
      "metadata": {
        "id": "0EiJIeW4eFJi"
      }
    },
    {
      "cell_type": "markdown",
      "source": [
        "In case you only want to use this section, just a reminder please run the installation Cell (the first one), and load your data."
      ],
      "metadata": {
        "id": "URfTtRIMejdB"
      }
    },
    {
      "cell_type": "code",
      "source": [
        "import numpy as np\n",
        "import pandas as pd\n",
        "from plotnine import *\n",
        "\n",
        "%matplotlib inline\n",
        "hist1 = pd.read_csv('/content/sample_data/P-radius_gyration.csv').dropna()\n",
        "hist2 = pd.read_csv('/content/sample_data/d1-radius_gyration.csv').dropna()\n",
        "hist3 = pd.read_csv('/content/sample_data/d2-radius_gyration_ca.csv').dropna()"
      ],
      "metadata": {
        "id": "99CDVyCKegIX"
      },
      "execution_count": 31,
      "outputs": []
    },
    {
      "cell_type": "code",
      "source": [
        "# Add a 'Group' column to each DataFrame to differentiate them\n",
        "hist1['Receptor'] = 'NDM1-Apo'\n",
        "hist2['Receptor'] = 'NDM1-ABTS'\n",
        "hist3['Receptor'] = 'NDM1-CBM'"
      ],
      "metadata": {
        "id": "jWhdoDjkfm0i"
      },
      "execution_count": 32,
      "outputs": []
    },
    {
      "cell_type": "code",
      "source": [
        "# Define custom colors for each receptor\n",
        "custom_colors = {'NDM1-Apo': 'Green', 'NDM1-ABTS': 'Blue', 'NDM1-CBM': Red'}"
      ],
      "metadata": {
        "id": "3QpPJwlTfwdm"
      },
      "execution_count": 33,
      "outputs": []
    },
    {
      "cell_type": "code",
      "source": [
        "# Concatenate the three DataFrames into one\n",
        "combined_data = pd.concat([hist1, hist2])"
      ],
      "metadata": {
        "id": "ciFRoYH_f7KR"
      },
      "execution_count": 34,
      "outputs": []
    },
    {
      "cell_type": "code",
      "source": [
        "#To Generate density plots froom the RoG or any other data.\n",
        "p = ggplot(combined_data, aes(x='RoG', fill='Receptor')) + geom_density(alpha=0.7, bw=0.7) + scale_fill_manual(values=custom_colors) + theme_minimal() + theme(figure_size=(6, 3), panel_background=element_rect(fill='white'), panel_grid_major=element_blank(), panel_grid_minor=element_blank(), axis_line=element_line(color='black'), panel_border=element_blank(), axis_text=element_text(color='black'), axis_title=element_text(color='black')) + xlim(18, combined_data['RoG'].max() + 2)"
      ],
      "metadata": {
        "id": "jf8RvD6xrR-E"
      },
      "execution_count": 35,
      "outputs": []
    },
    {
      "cell_type": "code",
      "source": [
        "display(p)"
      ],
      "metadata": {
        "id": "ti2rTER5g1SR"
      },
      "execution_count": null,
      "outputs": []
    },
    {
      "cell_type": "code",
      "source": [
        "p.save(filename = 'RoG.png', height=3, width=8, units = 'in', dpi=600)"
      ],
      "metadata": {
        "id": "SdTG1nQDhj4o"
      },
      "execution_count": 37,
      "outputs": []
    },
    {
      "cell_type": "markdown",
      "source": [
        "**Congratulation!**\n",
        "\n",
        "You have plot your data and save it with high resolution (600 dpi). You can download your data from the file menu located on the left side."
      ],
      "metadata": {
        "id": "9ZxD0xTTiEi1"
      }
    }
  ]
}