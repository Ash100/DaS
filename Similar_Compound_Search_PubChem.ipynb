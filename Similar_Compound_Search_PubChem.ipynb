{
 "cells": [
  {
   "cell_type": "markdown",
   "id": "6f2c0c41-c3e4-4bc0-97ef-c70cbc58b9f7",
   "metadata": {},
   "source": [
    "# Search Similar Compounds Across PubChem Database\n",
    "Hello Everyone, I am **Dr. Ashfaq Ahmad**. I am going to teach you how will you use RDKit in Jupyter Notebook, and to collect similar compounds to your query compound from PubChem (https://pubchem.ncbi.nlm.nih.gov). This notebook is compiled for teaching and academic research purposes.\n",
    "PubChem citation: *PubChem in 2021: Nucleic Acids Res.(2021), 49, D1388–D1395*\n",
    "PubChem database contains chemical molecules and their measured activities against biological assays. It is maintained by the NCBI, which is part of NIH. Currently, It is the world’s largest freely available resource of chemical information and is collected from more than 770 data sources.\n"
   ]
  },
  {
   "cell_type": "code",
   "execution_count": null,
   "id": "fb72345f-3ffd-4e5a-b46d-239379a22bbc",
   "metadata": {},
   "outputs": [],
   "source": [
    "#Install RDKit\n",
    "!pip install rdkit"
   ]
  },
  {
   "cell_type": "markdown",
   "id": "825dcd4f-7abb-4353-ad66-b97ccdf88a30",
   "metadata": {},
   "source": [
    "We will need to import the required libraries to our space."
   ]
  },
  {
   "cell_type": "code",
   "execution_count": null,
   "id": "6b61fe14-0830-4c32-a551-a83f40ccfc96",
   "metadata": {},
   "outputs": [],
   "source": [
    "import time\n",
    "from pathlib import Path\n",
    "from urllib.parse import quote\n",
    "\n",
    "from IPython.display import Markdown, Image\n",
    "import requests\n",
    "import pandas as pd\n",
    "from rdkit import Chem\n",
    "from rdkit.Chem import PandasTools\n",
    "from rdkit.Chem.Draw import MolsToGridImage"
   ]
  },
  {
   "cell_type": "code",
   "execution_count": null,
   "id": "eebab234-b2e9-49aa-b633-f39c177a44ff",
   "metadata": {},
   "outputs": [],
   "source": [
    "HERE = Path(_dh[-1])\n",
    "DATA = HERE / \"data\""
   ]
  },
  {
   "cell_type": "markdown",
   "id": "c54c9543-64ab-47bc-a460-d4cd29365047",
   "metadata": {},
   "source": [
    "# Fetching PubChem CID for the compound of interest"
   ]
  },
  {
   "cell_type": "code",
   "execution_count": null,
   "id": "09a62bbb-3480-48b7-94fc-615043979338",
   "metadata": {},
   "outputs": [],
   "source": [
    "# Get PubChem CID by name\n",
    "name = \"olaparib\"\n",
    "\n",
    "url = f\"https://pubchem.ncbi.nlm.nih.gov/rest/pug/compound/name/{name}/cids/JSON\"\n",
    "\n",
    "r = requests.get(url)\n",
    "r.raise_for_status()\n",
    "response = r.json()\n",
    "if \"IdentifierList\" in response:\n",
    "    cid = response[\"IdentifierList\"][\"CID\"][0]\n",
    "else:\n",
    "    raise ValueError(f\"Could not find matches for compound: {name}\")\n",
    "print(f\"PubChem CID for {name} is:\\n{cid}\")\n",
    "# NBVAL_CHECK_OUTPUT"
   ]
  },
  {
   "cell_type": "markdown",
   "id": "2cd62ac7-a690-44d4-a0a7-abe6b75b8f37",
   "metadata": {},
   "source": [
    "# Extract molecular properties for a respective PubChem CID\n",
    "We extract interesting properties for a compound using PubChem CID, such as molecular weight, pKd, logP, etc. Here, we will search for the molecular weight for Olaparib. You are suggested to edit the script for a particular property, below, I am showing you only **Molecular weight**."
   ]
  },
  {
   "cell_type": "code",
   "execution_count": null,
   "id": "bd604807-b0d3-446b-a50f-fa467b655388",
   "metadata": {},
   "outputs": [],
   "source": [
    "# Get mol weight for olaparib\n",
    "url = f\"https://pubchem.ncbi.nlm.nih.gov/rest/pug/compound/cid/{cid}/property/MolecularWeight/JSON\"\n",
    "\n",
    "r = requests.get(url)\n",
    "r.raise_for_status()\n",
    "response = r.json()\n",
    "\n",
    "if \"PropertyTable\" in response:\n",
    "    mol_weight = response[\"PropertyTable\"][\"Properties\"][0][\"MolecularWeight\"]\n",
    "else:\n",
    "    raise ValueError(f\"Could not find matches for PubChem CID: {cid}\")\n",
    "print(f\"Molecular weight for {name} is:\\n{mol_weight}\")\n",
    "# NBVAL_CHECK_OUTPUT"
   ]
  },
  {
   "cell_type": "markdown",
   "id": "debd6e8e-bc33-4193-8431-fdfab2d14dd6",
   "metadata": {},
   "source": [
    "# Show me the 2D structure of my compound"
   ]
  },
  {
   "cell_type": "code",
   "execution_count": null,
   "id": "b1839497-9f09-4711-85a6-169975b5a131",
   "metadata": {},
   "outputs": [],
   "source": [
    "# Get PNG image from PubChem\n",
    "url = f\"https://pubchem.ncbi.nlm.nih.gov/rest/pug/compound/cid/{cid}/PNG\"\n",
    "\n",
    "r = requests.get(url)\n",
    "r.raise_for_status()\n",
    "\n",
    "display(Markdown(\"The 2D structure of Olaparib:\"))\n",
    "display(Image(r.content))"
   ]
  },
  {
   "cell_type": "markdown",
   "id": "6775f7a8-d7ec-4c9c-99ba-ad93b7e8bed2",
   "metadata": {},
   "source": [
    "# Search of Query compounds for similarity search\n",
    "The below script will perform the Tanimoto-based similarity search. The 2D PubChem fingerprints will be calculated first. For more information, abount fingerprints, it is highly advised to read (https://jcheminf.biomedcentral.com/articles/10.1186/s13321-016-0163-1)."
   ]
  },
  {
   "cell_type": "markdown",
   "id": "abf9e0da-17d1-4b41-af00-5d717a42d615",
   "metadata": {},
   "source": [
    "# Fetching of Query Compound"
   ]
  },
  {
   "cell_type": "code",
   "execution_count": null,
   "id": "e79c458f-658c-4163-9d29-2a89c92c92aa",
   "metadata": {},
   "outputs": [],
   "source": [
    "query = \"C1CC1C(=O)N2CCN(CC2)C(=O)C3=C(C=CC(=C3)CC4=NNC(=O)C5=CC=CC=C54)F\"  # olaparib\n",
    "print(\"The structure of olaparib:\")\n",
    "Chem.MolFromSmiles(query)"
   ]
  },
  {
   "cell_type": "markdown",
   "id": "f16a73d2-93b3-47c0-bfed-33f96c18ab1e",
   "metadata": {},
   "source": [
    "# Creating a job key\n",
    "The following script will create a job key as per your requiremnts. You can adjust the similarity threshould, and n_recods you expect. In this example we are using threshould value of 75, and n_record value of 10. "
   ]
  },
  {
   "cell_type": "code",
   "execution_count": null,
   "id": "869e9947-ac9c-4c40-b5e6-7a6a1b5d8b68",
   "metadata": {},
   "outputs": [],
   "source": [
    "def query_pubchem_for_similar_compounds(smiles, threshold=75, n_records=10):\n",
    "    \"\"\"\n",
    "    Query PubChem for similar compounds and return the job key.\n",
    "\n",
    "    Parameters\n",
    "    ----------\n",
    "    smiles : str\n",
    "        The canonical SMILES string for the given compound.\n",
    "    threshold : int\n",
    "        The threshold of similarity, default 75%. In PubChem, the default threshold is 90%.\n",
    "    n_records : int\n",
    "        The maximum number of feedback records.\n",
    "\n",
    "    Returns\n",
    "    -------\n",
    "    str\n",
    "        The job key from the PubChem web service.\n",
    "    \"\"\"\n",
    "    escaped_smiles = quote(smiles).replace(\"/\", \".\")\n",
    "    url = f\"https://pubchem.ncbi.nlm.nih.gov/rest/pug/compound/similarity/smiles/{escaped_smiles}/JSON?Threshold={threshold}&MaxRecords={n_records}\"\n",
    "    r = requests.get(url)\n",
    "    r.raise_for_status()\n",
    "    key = r.json()[\"Waiting\"][\"ListKey\"]\n",
    "    return key"
   ]
  },
  {
   "cell_type": "code",
   "execution_count": null,
   "id": "c0d66eb2-c658-4bfc-9a3d-a2ca6dabda65",
   "metadata": {},
   "outputs": [],
   "source": [
    "job_key = query_pubchem_for_similar_compounds(query)"
   ]
  },
  {
   "cell_type": "markdown",
   "id": "5342cc3f-d21a-459b-baac-11563b2cfe4b",
   "metadata": {},
   "source": [
    "# Download your results"
   ]
  },
  {
   "cell_type": "code",
   "execution_count": null,
   "id": "62a8b39c-3e9a-41d2-8cb4-b539042ab3d9",
   "metadata": {},
   "outputs": [],
   "source": [
    "def check_and_download(key, attempts=30):\n",
    "    \"\"\"\n",
    "    Check job status and download PubChem CIDs when the job finished\n",
    "\n",
    "    Parameters\n",
    "    ----------\n",
    "    key : str\n",
    "        The job key of the PubChem service.\n",
    "    attempts : int\n",
    "        The time waiting for the feedback from the PubChem service.\n",
    "\n",
    "    Returns\n",
    "    -------\n",
    "    list\n",
    "        The PubChem CIDs of similar compounds.\n",
    "    \"\"\"\n",
    "    url = f\"https://pubchem.ncbi.nlm.nih.gov/rest/pug/compound/listkey/{key}/cids/JSON\"\n",
    "    print(f\"Querying for job {key} at URL {url}...\", end=\"\")\n",
    "    while attempts:\n",
    "        r = requests.get(url)\n",
    "        r.raise_for_status()\n",
    "        response = r.json()\n",
    "        if \"IdentifierList\" in response:\n",
    "            cids = response[\"IdentifierList\"][\"CID\"]\n",
    "            break\n",
    "        attempts -= 1\n",
    "        print(\".\", end=\"\")\n",
    "        time.sleep(10)\n",
    "    else:\n",
    "        raise ValueError(f\"Could not find matches for job key: {key}\")\n",
    "    return cids"
   ]
  },
  {
   "cell_type": "code",
   "execution_count": null,
   "id": "c5621900-63a9-46e5-a7b4-d13b8436b808",
   "metadata": {},
   "outputs": [],
   "source": [
    "similar_cids = check_and_download(job_key)"
   ]
  },
  {
   "cell_type": "markdown",
   "id": "551e0232-c77e-4e08-9de9-5106db228ad0",
   "metadata": {},
   "source": [
    "# Retrieve Canonical_Smiles of the molecules"
   ]
  },
  {
   "cell_type": "code",
   "execution_count": null,
   "id": "607479f4-69e8-4833-b897-278615ae18b4",
   "metadata": {},
   "outputs": [],
   "source": [
    "def smiles_from_pubchem_cids(cids):\n",
    "    \"\"\"\n",
    "    Get the canonical SMILES string from the PubChem CIDs.\n",
    "\n",
    "    Parameters\n",
    "    ----------\n",
    "    cids : list\n",
    "        A list of PubChem CIDs.\n",
    "\n",
    "    Returns\n",
    "    -------\n",
    "    list\n",
    "        The canonical SMILES strings of the PubChem CIDs.\n",
    "    \"\"\"\n",
    "    url = f\"https://pubchem.ncbi.nlm.nih.gov/rest/pug/compound/cid/{','.join(map(str, cids))}/property/CanonicalSMILES/JSON\"\n",
    "    r = requests.get(url)\n",
    "    r.raise_for_status()\n",
    "    return [item[\"CanonicalSMILES\"] for item in r.json()[\"PropertyTable\"][\"Properties\"]]"
   ]
  },
  {
   "cell_type": "code",
   "execution_count": null,
   "id": "47e5e69a-a345-4d56-96f2-c0253733cc5d",
   "metadata": {},
   "outputs": [],
   "source": [
    "similar_smiles = smiles_from_pubchem_cids(similar_cids)"
   ]
  },
  {
   "cell_type": "code",
   "execution_count": null,
   "id": "92c557a9-530a-4e8a-97b2-9417ddddf48b",
   "metadata": {},
   "outputs": [],
   "source": [
    "query_results_df = pd.DataFrame({\"smiles\": similar_smiles, \"CIDs\": similar_cids})\n",
    "PandasTools.AddMoleculeColumnToFrame(query_results_df, smilesCol=\"smiles\")\n",
    "query_results_df.head(6)"
   ]
  },
  {
   "cell_type": "code",
   "execution_count": null,
   "id": "98d253be-6096-4b43-8336-1c80364e8d07",
   "metadata": {},
   "outputs": [],
   "source": [
    "#Save your data into CSV file\n",
    "query_results_df.to_csv('similar_olaparib.csv', index=True)"
   ]
  },
  {
   "cell_type": "markdown",
   "id": "2e0ba7ef-27cf-49a2-9992-a8ef42932fe4",
   "metadata": {},
   "source": [
    "In the above script, query_results_df.head value is set to 6. It means, no matter how many molecules you have requested for in n_records, you will only six of them. So, it is upto you, how many do you want to display here. Change the value and re-run the last script you run."
   ]
  },
  {
   "cell_type": "markdown",
   "id": "aac6c496-069d-4a77-ad7a-2ea552db24ec",
   "metadata": {},
   "source": [
    "# Show Results in Image with help of RDKit"
   ]
  },
  {
   "cell_type": "code",
   "execution_count": null,
   "id": "167b7a55-7a44-4a28-8aa5-54af16159075",
   "metadata": {},
   "outputs": [],
   "source": [
    "def multi_preview_smiles(query_smiles, query_name, similar_molecules_pd):\n",
    "    \"\"\"\n",
    "    Show query and similar compounds in 2D structure representation.\n",
    "\n",
    "    Parameters\n",
    "    ----------\n",
    "    query_smiles : str\n",
    "        The SMILES string of query compound.\n",
    "    query_name : str\n",
    "        The name of query compound.\n",
    "    similar_molecules_pd : pandas\n",
    "        The pandas DataFrame which contains the SMILES string and CIDs of similar molecules.\n",
    "\n",
    "    Returns\n",
    "    -------\n",
    "    MolsToGridImage\n",
    "    \"\"\"\n",
    "\n",
    "    legends = [f\"PubChem CID: {str(s)}\" for s in similar_molecules_pd[\"CIDs\"].tolist()]\n",
    "    molecules = [Chem.MolFromSmiles(s) for s in similar_molecules_pd[\"smiles\"]]\n",
    "    query_smiles = Chem.MolFromSmiles(query_smiles)\n",
    "    return MolsToGridImage(\n",
    "        [query_smiles] + molecules,\n",
    "        molsPerRow=3,\n",
    "        subImgSize=(300, 300),\n",
    "        maxMols=len(molecules),\n",
    "        legends=([query_name] + legends),\n",
    "        useSVG=True,\n",
    "    )"
   ]
  },
  {
   "cell_type": "code",
   "execution_count": null,
   "id": "e1aadd65-c0dc-4241-93a7-ae1e709bd2ec",
   "metadata": {},
   "outputs": [],
   "source": [
    "print(\"The results of querying similar compounds for Olaparib:\")\n",
    "img = multi_preview_smiles(query, \"Olaparib\", query_results_df)\n",
    "img"
   ]
  }
 ],
 "metadata": {
  "kernelspec": {
   "display_name": "Python 3 (ipykernel)",
   "language": "python",
   "name": "python3"
  },
  "language_info": {
   "codemirror_mode": {
    "name": "ipython",
    "version": 3
   },
   "file_extension": ".py",
   "mimetype": "text/x-python",
   "name": "python",
   "nbconvert_exporter": "python",
   "pygments_lexer": "ipython3",
   "version": "3.10.10"
  }
 },
 "nbformat": 4,
 "nbformat_minor": 5
}
